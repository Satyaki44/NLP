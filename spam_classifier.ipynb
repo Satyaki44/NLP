{
  "nbformat": 4,
  "nbformat_minor": 0,
  "metadata": {
    "colab": {
      "name": "spam_classifier.ipynb",
      "provenance": []
    },
    "kernelspec": {
      "name": "python3",
      "display_name": "Python 3"
    },
    "accelerator": "GPU"
  },
  "cells": [
    {
      "cell_type": "code",
      "metadata": {
        "id": "JMur4WxAYgSj"
      },
      "source": [
        "import numpy as np\r\n",
        "import pandas as pd"
      ],
      "execution_count": 2,
      "outputs": []
    },
    {
      "cell_type": "code",
      "metadata": {
        "id": "xX6hrjTPZZn6"
      },
      "source": [
        "#collecting the data\r\n",
        "messages = pd.read_csv('/content/drive/MyDrive/Colab_files/SMSSpamCollection.csv', sep='\\t',\r\n",
        "                           names=[\"label\", \"message\"])"
      ],
      "execution_count": 6,
      "outputs": []
    },
    {
      "cell_type": "code",
      "metadata": {
        "colab": {
          "base_uri": "https://localhost:8080/"
        },
        "id": "yPon2HALZup7",
        "outputId": "1c617a7e-de1f-4215-81a7-f492f3f0d252"
      },
      "source": [
        "#data cleaning & preprocessing\r\n",
        "import re\r\n",
        "import nltk\r\n",
        "nltk.download('stopwords')\r\n",
        "\r\n",
        "#stopwords library-> helps to detect stopwords in a dataset like (he,is,are,i etc.)\r\n",
        "from nltk.corpus import stopwords\r\n",
        "\r\n",
        "#PorterStemmer is a library for steeming purpose; stemming reduces the word to a smaller version\r\n",
        "from nltk.stem.porter import PorterStemmer\r\n",
        "ps=PorterStemmer()"
      ],
      "execution_count": 15,
      "outputs": [
        {
          "output_type": "stream",
          "text": [
            "[nltk_data] Downloading package stopwords to /root/nltk_data...\n",
            "[nltk_data]   Unzipping corpora/stopwords.zip.\n"
          ],
          "name": "stdout"
        }
      ]
    },
    {
      "cell_type": "code",
      "metadata": {
        "id": "vTf3PuwrblYZ"
      },
      "source": [
        "corpus=[]\r\n",
        "for i in range(0,len(messages)):\r\n",
        "\r\n",
        "  #remove the unwanted characters\r\n",
        "  review = re.sub('[^a-zA-Z]', ' ', messages['message'][i])\r\n",
        "\r\n",
        "  #lowering the characters\r\n",
        "  review = review.lower()\r\n",
        "\r\n",
        "  #splitting the sentences in words within a list\r\n",
        "  review=review.split()\r\n",
        "\r\n",
        "  #removing the stopwords\r\n",
        "  review = [ps.stem(word) for word in review if not word in stopwords.words('english')]\r\n",
        "\r\n",
        "  #joining the words from the list\r\n",
        "  review = ' '.join(review)\r\n",
        "\r\n",
        "  #appending to the empty list\r\n",
        "  corpus.append(review)"
      ],
      "execution_count": 20,
      "outputs": []
    },
    {
      "cell_type": "code",
      "metadata": {
        "id": "DZcCnogYcas-"
      },
      "source": [
        "#working with bag of words model:\r\n",
        "#bag of words will convert the words into integers rather vectors\r\n",
        "\r\n",
        "from sklearn.feature_extraction.text import CountVectorizer\r\n",
        "cv=CountVectorizer(max_features=2500)"
      ],
      "execution_count": 24,
      "outputs": []
    },
    {
      "cell_type": "code",
      "metadata": {
        "id": "Od9wCXw9d2XY"
      },
      "source": [
        "X=cv.fit_transform(corpus).toarray()"
      ],
      "execution_count": 27,
      "outputs": []
    },
    {
      "cell_type": "code",
      "metadata": {
        "id": "RKbHIYieej8w"
      },
      "source": [
        "y=pd.get_dummies(messages['label'])\r\n",
        "y=y.iloc[:,1].values"
      ],
      "execution_count": 33,
      "outputs": []
    },
    {
      "cell_type": "code",
      "metadata": {
        "id": "QMYO2N2ae0X-"
      },
      "source": [
        "from sklearn.model_selection import train_test_split\r\n",
        "X_train, X_test, y_train, y_test = train_test_split(X, y, test_size = 0.20, random_state = 0)"
      ],
      "execution_count": 34,
      "outputs": []
    },
    {
      "cell_type": "code",
      "metadata": {
        "id": "pNMYMC1ie25Y"
      },
      "source": [
        "#train model using Naive Bayes Classifier\r\n",
        "from sklearn.naive_bayes import MultinomialNB\r\n",
        "m=MultinomialNB().fit(X_train,y_train)"
      ],
      "execution_count": 35,
      "outputs": []
    },
    {
      "cell_type": "code",
      "metadata": {
        "id": "grhRyt-nfQXH"
      },
      "source": [
        "y_pred=m.predict(X_test)"
      ],
      "execution_count": 36,
      "outputs": []
    },
    {
      "cell_type": "code",
      "metadata": {
        "colab": {
          "base_uri": "https://localhost:8080/"
        },
        "id": "C4u5OnCTfYQO",
        "outputId": "12f2e869-355e-438f-990e-eb57419d299d"
      },
      "source": [
        "from sklearn.metrics import confusion_matrix,accuracy_score,classification_report\r\n",
        "\r\n",
        "print('Confusion Matrix is:',confusion_matrix(y_test,y_pred),end=' ')\r\n",
        "print('   ')\r\n",
        "print('Classification_report is:',classification_report(y_test,y_pred),end=' ')\r\n",
        "print('   ')\r\n",
        "print('Accuracy_score is:',accuracy_score(y_test,y_pred))"
      ],
      "execution_count": 45,
      "outputs": [
        {
          "output_type": "stream",
          "text": [
            "Confusion Matrix is: [[946   9]\n",
            " [  7 153]]    \n",
            "Classification_report is:               precision    recall  f1-score   support\n",
            "\n",
            "           0       0.99      0.99      0.99       955\n",
            "           1       0.94      0.96      0.95       160\n",
            "\n",
            "    accuracy                           0.99      1115\n",
            "   macro avg       0.97      0.97      0.97      1115\n",
            "weighted avg       0.99      0.99      0.99      1115\n",
            "    \n",
            "Accuracy_score is: 0.9856502242152466\n"
          ],
          "name": "stdout"
        }
      ]
    }
  ]
}